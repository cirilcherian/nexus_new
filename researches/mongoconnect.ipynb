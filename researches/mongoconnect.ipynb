{
 "cells": [
  {
   "cell_type": "code",
   "execution_count": 27,
   "metadata": {},
   "outputs": [
    {
     "name": "stdout",
     "output_type": "stream",
     "text": [
      "Looking in indexes: https://pypi.org/simple, https://pypi.ngc.nvidia.com\n",
      "Requirement already satisfied: tesseract in c:\\users\\admin\\anaconda3\\lib\\site-packages (0.1.3)\n"
     ]
    }
   ],
   "source": [
    "!pip install tesseract "
   ]
  },
  {
   "cell_type": "code",
   "execution_count": 4,
   "metadata": {},
   "outputs": [
    {
     "name": "stderr",
     "output_type": "stream",
     "text": [
      "2024-04-15 13:46:51,042 - INFO - Processing document ID: 660fce077ab5233c0a3638bd\n",
      "2024-04-15 13:46:51,074 - INFO - Processing document ID: 6617c53981a80fc7e0b26611\n",
      "2024-04-15 13:46:51,091 - INFO - Processing document ID: 6617c65de7aa7c816d9f859d\n",
      "2024-04-15 13:46:51,110 - INFO - Processing document ID: 6617d1e1fd1364c41db7d235\n",
      "2024-04-15 13:46:51,125 - INFO - Processing document ID: 6618d64d0f10d40b51e525bd\n",
      "2024-04-15 13:46:54,430 - INFO - Processing document ID: 6618d6b70f10d40b51e525be\n",
      "2024-04-15 13:46:56,877 - INFO - Processing document ID: 6618d7230f10d40b51e525bf\n",
      "2024-04-15 13:46:59,402 - INFO - Processing document ID: 6618d7490f10d40b51e525c0\n",
      "2024-04-15 13:47:01,788 - INFO - Processing document ID: 6618d7570f10d40b51e525c1\n",
      "2024-04-15 13:47:03,577 - INFO - Processing document ID: 6618e0e05cd16fd6a4b67545\n",
      "2024-04-15 13:47:06,551 - INFO - Processing document ID: 6618e14d5cd16fd6a4b67548\n",
      "2024-04-15 13:47:10,464 - INFO - Processing document ID: 6618e1865cd16fd6a4b6754b\n",
      "2024-04-15 13:47:13,403 - INFO - Processing document ID: 6618e1cc5cd16fd6a4b67551\n",
      "2024-04-15 13:47:16,665 - INFO - Processing document ID: 6618e2a02350befcac31f3fb\n",
      "2024-04-15 13:47:18,925 - INFO - Processing document ID: 6618e2ec2350befcac31f3fe\n",
      "2024-04-15 13:47:21,155 - INFO - Processing document ID: 66190457d49bea31d2c74ab9\n",
      "2024-04-15 13:47:21,170 - INFO - Processing document ID: 661905fe5d7e978090cde343\n",
      "2024-04-15 13:47:21,172 - INFO - Processing document ID: 66191068dfe55f5df549fd48\n",
      "2024-04-15 13:47:21,175 - INFO - Processing document ID: 66191755da1fb3eb9f77aa96\n",
      "2024-04-15 13:47:21,189 - INFO - Processing document ID: 6619177ae9cc8b15e00d66f5\n",
      "2024-04-15 13:47:21,199 - INFO - Processing document ID: 661917dae9cc8b15e00d66f6\n",
      "2024-04-15 13:47:21,213 - INFO - Processing document ID: 66192d7ad49bea31d2c74ae4\n",
      "2024-04-15 13:47:21,225 - INFO - Processing document ID: 661cb1796d48fd73fe56971b\n",
      "2024-04-15 13:47:21,226 - INFO - Processing document ID: 661cb4cf6e62378b3197d3b5\n",
      "2024-04-15 13:47:21,228 - INFO - Processing document ID: 661cc7136c7d92845878990f\n"
     ]
    }
   ],
   "source": [
    "import pymongo\n",
    "import magic\n",
    "import pdfplumber\n",
    "from PIL import Image\n",
    "import pytesseract\n",
    "# from docx import Document\n",
    "from io import BytesIO\n",
    "import logging\n",
    "import json\n",
    "import pandas as pd\n",
    "\n",
    "logging.basicConfig(level=logging.INFO, format='%(asctime)s - %(levelname)s - %(message)s')\n",
    "\n",
    "\n",
    "# MongoDB connection\n",
    "db = client[\"Nexus360\"]\n",
    "collection = db[\"Uploaded_Documents\"]\n",
    "\n",
    "# Mime type based approach to handle different types of files\n",
    "def handle_pdf(file_data):\n",
    "    with pdfplumber.open(BytesIO(file_data)) as pdf:\n",
    "        text = ''.join(page.extract_text() for page in pdf.pages if page.extract_text())\n",
    "    return text\n",
    "\n",
    "def handle_text(file_data):\n",
    "    return file_data.decode('utf-8')\n",
    "def handle_csv(file_data):\n",
    "    csv_data = pd.read_csv(BytesIO(file_data))\n",
    "    return csv_data.to_string(index=False)\n",
    "\n",
    "# def handle_image(file_data):\n",
    "#     image = Image.open(BytesIO(file_data))\n",
    "#     text = pytesseract.image_to_string(image)\n",
    "#     return text\n",
    "\n",
    "# def handle_docx(file_data):\n",
    "#     doc = Document(BytesIO(file_data))\n",
    "#     text = '\\n'.join(paragraph.text for paragraph in doc.paragraphs)\n",
    "#     return text\n",
    "\n",
    "# Function to process files\n",
    "def process_files():\n",
    "    mime = magic.Magic(mime=True)\n",
    "    \n",
    "\n",
    "    \n",
    "    for document in collection.find():\n",
    "        logging.info(f\"Processing document ID: {document['_id']}\")\n",
    "        if 'FileData' in document:\n",
    "            file_data = document['FileData']\n",
    "            mime_type = mime.from_buffer(file_data)\n",
    "            \n",
    "            text = None\n",
    "            if 'pdf' in mime_type:\n",
    "                text = handle_pdf(file_data)\n",
    "            elif 'plain' in mime_type:\n",
    "                text = handle_text(file_data)\n",
    "            elif 'csv' in mime_type:\n",
    "                text = handle_csv(file_data)\n",
    "            # elif 'image' in mime_type:\n",
    "            #     text = handle_image(file_data)\n",
    "            # elif 'officedocument' in mime_type:\n",
    "            #     text = handle_docx(file_data)\n",
    "            metadata = {\n",
    "                \"DocumentID\": document.get(\"DocumentID\", \"\"),\n",
    "                \"FileName\": document.get(\"FileName\", \"\"),\n",
    "                \"UploadedBy\": document.get(\"UploadedBy\", \"\"),\n",
    "                \"SpaceName\": document.get(\"SpaceName\", \"\"),\n",
    "                \"SpaceID\": document.get(\"SpaceID\", \"\"),\n",
    "                \"CreatedDate\": document.get(\"CreatedDate\", \"\"),\n",
    "                \"UpdatedDate\": document.get(\"UpdatedDate\", \"\")\n",
    "                }\n",
    "            result = {\n",
    "                \"text\": text,\n",
    "                \"metadata\": metadata\n",
    "                }\n",
    "            \n",
    "            \n",
    "            if text:\n",
    "                # Save to a file\n",
    "                with open(f\"{document['_id']}.json\", \"w\", encoding='utf-8') as f:\n",
    "                    json.dump(result, f, indent=4, default=str)\n",
    "\n",
    "if __name__ == \"__main__\":\n",
    "    process_files()\n"
   ]
  },
  {
   "cell_type": "code",
   "execution_count": null,
   "metadata": {},
   "outputs": [],
   "source": []
  }
 ],
 "metadata": {
  "kernelspec": {
   "display_name": "venv2",
   "language": "python",
   "name": "python3"
  },
  "language_info": {
   "codemirror_mode": {
    "name": "ipython",
    "version": 3
   },
   "file_extension": ".py",
   "mimetype": "text/x-python",
   "name": "python",
   "nbconvert_exporter": "python",
   "pygments_lexer": "ipython3",
   "version": "3.11.5"
  }
 },
 "nbformat": 4,
 "nbformat_minor": 2
}
